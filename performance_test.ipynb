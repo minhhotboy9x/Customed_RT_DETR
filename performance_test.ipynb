{
 "cells": [
  {
   "cell_type": "code",
   "execution_count": 1,
   "id": "fe50ec14",
   "metadata": {},
   "outputs": [
    {
     "name": "stderr",
     "output_type": "stream",
     "text": [
      "c:\\Users\\ABC\\.conda\\envs\\py310\\lib\\site-packages\\tqdm\\auto.py:21: TqdmWarning: IProgress not found. Please update jupyter and ipywidgets. See https://ipywidgets.readthedocs.io/en/stable/user_install.html\n",
      "  from .autonotebook import tqdm as notebook_tqdm\n"
     ]
    },
    {
     "name": "stdout",
     "output_type": "stream",
     "text": [
      "True\n",
      "2.5.1+cu121\n"
     ]
    }
   ],
   "source": [
    "import os \n",
    "import sys\n",
    "import argparse\n",
    "from argparse import Namespace\n",
    "\n",
    "import numpy as np\n",
    "import time\n",
    "import torch\n",
    "import matplotlib.pyplot as plt\n",
    "import matplotlib.cm as cm\n",
    "import torchvision\n",
    "from PIL import Image\n",
    "import torchvision.transforms as T\n",
    "\n",
    "import src.misc.dist as dist \n",
    "from src.core import YAMLConfig \n",
    "from src.solver import TASKS\n",
    "from src.zoo.rtdetr.box_ops import box_cxcywh_to_xyxy as rtdetr_box_cxcywh_to_xyxy\n",
    "\n",
    "np.random.seed(0)\n",
    "print(torch.cuda.is_available())\n",
    "print(torch.__version__)"
   ]
  },
  {
   "cell_type": "code",
   "execution_count": null,
   "id": "6f9c10ca",
   "metadata": {},
   "outputs": [
    {
     "name": "stdout",
     "output_type": "stream",
     "text": [
      "Load PResNet50 state_dict\n",
      "Tuning checkpoint from rtdetr_r50vd_6x_coco_from_paddle.pth\n",
      "Load model.state_dict, {'missed': [], 'unmatched': []}\n",
      "Tuning checkpoint from rtdetr_r50vd_6x_coco_from_paddle.pth\n",
      "Load model.state_dict, {'missed': [], 'unmatched': []}\n",
      "loading annotations into memory...\n",
      "Done (t=1.03s)\n",
      "creating index...\n",
      "index created!\n"
     ]
    },
    {
     "data": {
      "text/plain": [
       "1"
      ]
     },
     "execution_count": 5,
     "metadata": {},
     "output_type": "execute_result"
    }
   ],
   "source": [
    "args = Namespace(\n",
    "                config='configs/rtdetr/rtdetr_r50vd_6x_coco_customed.yml', \n",
    "                # config='configs/rtdetr/rtdetr_r50vd_6x_coco.yml', \n",
    "                resume=None, \n",
    "                tuning='rtdetr_r50vd_6x_coco_from_paddle.pth', \n",
    "                test_only=True, \n",
    "                amp=True, \n",
    "                seed=0)\n",
    "\n",
    "cfg = YAMLConfig(\n",
    "    args.config,\n",
    "    resume=args.resume, \n",
    "    use_amp=args.amp,\n",
    "    tuning=args.tuning\n",
    ")\n",
    "\n",
    "solver = TASKS[cfg.yaml_cfg['task']](cfg)\n",
    "solver.setup()\n",
    "solver.eval()\n",
    "solver.model.eval()\n",
    "1"
   ]
  },
  {
   "cell_type": "code",
   "execution_count": null,
   "id": "91a69146",
   "metadata": {},
   "outputs": [
    {
     "name": "stdout",
     "output_type": "stream",
     "text": [
      "Average inference time: 68.86 ms\n"
     ]
    }
   ],
   "source": [
    "# Tạo dummy input (giả sử model nhận ảnh 3x640x640)\n",
    "dummy_input = torch.ones(1, 3, 640, 640).to(next(solver.model.parameters()).device)\n",
    "\n",
    "num_iters = 1000\n",
    "start = time.time()\n",
    "with torch.no_grad():\n",
    "    for _ in range(num_iters):\n",
    "        _ = solver.model(dummy_input)\n",
    "end = time.time()\n",
    "\n",
    "print(f\"Average inference time: {(end - start) / num_iters * 1000:.2f} ms\")"
   ]
  }
 ],
 "metadata": {
  "kernelspec": {
   "display_name": "py310",
   "language": "python",
   "name": "python3"
  },
  "language_info": {
   "codemirror_mode": {
    "name": "ipython",
    "version": 3
   },
   "file_extension": ".py",
   "mimetype": "text/x-python",
   "name": "python",
   "nbconvert_exporter": "python",
   "pygments_lexer": "ipython3",
   "version": "3.10.13"
  }
 },
 "nbformat": 4,
 "nbformat_minor": 5
}
